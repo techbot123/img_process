{
 "cells": [
  {
   "cell_type": "code",
   "execution_count": 1,
   "id": "d126edd9",
   "metadata": {},
   "outputs": [],
   "source": [
    "# import config\n",
    "import numpy as np\n",
    "import os\n",
    "import pandas as pd\n",
    "import torch"
   ]
  },
  {
   "cell_type": "code",
   "execution_count": 2,
   "id": "1b7fec69",
   "metadata": {},
   "outputs": [],
   "source": [
    "from PIL import Image, ImageFile\n",
    "from torch.utils.data import Dataset, DataLoader"
   ]
  },
  {
   "cell_type": "code",
   "execution_count": 5,
   "id": "1eed39d5",
   "metadata": {},
   "outputs": [],
   "source": [
    "anchors = [\n",
    "    [(0.28, 0.22), (0.38, 0.48), (0.9, 0.78)],\n",
    "    [(0.07, 0.15), (0.15, 0.11), (0.14, 0.29)],\n",
    "    [(0.02, 0.03), (0.04, 0.07), (0.08, 0.06)],\n",
    "]"
   ]
  },
  {
   "cell_type": "code",
   "execution_count": 34,
   "id": "6b00827e",
   "metadata": {},
   "outputs": [],
   "source": [
    "S = [13, 26, 52]\n",
    "scaled_anchors = torch.tensor(anchors) / (\n",
    "        1 / torch.tensor(S).unsqueeze(1).unsqueeze(1).repeat(1, 3, 2)\n",
    ")"
   ]
  },
  {
   "cell_type": "code",
   "execution_count": 35,
   "id": "abaf7ee8",
   "metadata": {},
   "outputs": [
    {
     "data": {
      "text/plain": [
       "tensor([[[ 3.6400,  2.8600],\n",
       "         [ 4.9400,  6.2400],\n",
       "         [11.7000, 10.1400]],\n",
       "\n",
       "        [[ 1.8200,  3.9000],\n",
       "         [ 3.9000,  2.8600],\n",
       "         [ 3.6400,  7.5400]],\n",
       "\n",
       "        [[ 1.0400,  1.5600],\n",
       "         [ 2.0800,  3.6400],\n",
       "         [ 4.1600,  3.1200]]])"
      ]
     },
     "execution_count": 35,
     "metadata": {},
     "output_type": "execute_result"
    }
   ],
   "source": [
    "scaled_anchors"
   ]
  },
  {
   "cell_type": "code",
   "execution_count": 33,
   "id": "5b2f3ae8",
   "metadata": {},
   "outputs": [
    {
     "data": {
      "text/plain": [
       "tensor([[[13, 13],\n",
       "         [13, 13],\n",
       "         [13, 13]],\n",
       "\n",
       "        [[26, 26],\n",
       "         [26, 26],\n",
       "         [26, 26]],\n",
       "\n",
       "        [[52, 52],\n",
       "         [52, 52],\n",
       "         [52, 52]],\n",
       "\n",
       "        [[13, 13],\n",
       "         [13, 13],\n",
       "         [13, 13]],\n",
       "\n",
       "        [[26, 26],\n",
       "         [26, 26],\n",
       "         [26, 26]],\n",
       "\n",
       "        [[52, 52],\n",
       "         [52, 52],\n",
       "         [52, 52]]])"
      ]
     },
     "execution_count": 33,
     "metadata": {},
     "output_type": "execute_result"
    }
   ],
   "source": [
    "torch.tensor(S).unsqueeze(1).unsqueeze(1).repeat(2,3,2)"
   ]
  },
  {
   "cell_type": "code",
   "execution_count": 22,
   "id": "5819638e",
   "metadata": {},
   "outputs": [
    {
     "data": {
      "text/plain": [
       "torch.Size([3, 1])"
      ]
     },
     "execution_count": 22,
     "metadata": {},
     "output_type": "execute_result"
    }
   ],
   "source": [
    "torch.tensor(S).unsqueeze(1).shape"
   ]
  },
  {
   "cell_type": "code",
   "execution_count": 25,
   "id": "b327e64a",
   "metadata": {},
   "outputs": [
    {
     "data": {
      "text/plain": [
       "tensor([[13, 26, 52]])"
      ]
     },
     "execution_count": 25,
     "metadata": {},
     "output_type": "execute_result"
    }
   ],
   "source": [
    "torch.tensor(S).unsqueeze(0)"
   ]
  },
  {
   "cell_type": "code",
   "execution_count": 26,
   "id": "ad83dea9",
   "metadata": {},
   "outputs": [
    {
     "data": {
      "text/plain": [
       "tensor([13, 26, 52])"
      ]
     },
     "execution_count": 26,
     "metadata": {},
     "output_type": "execute_result"
    }
   ],
   "source": [
    "torch.tensor(S)"
   ]
  },
  {
   "cell_type": "code",
   "execution_count": 32,
   "id": "54e3d25a",
   "metadata": {},
   "outputs": [
    {
     "data": {
      "text/plain": [
       "tensor([[[13]],\n",
       "\n",
       "        [[26]],\n",
       "\n",
       "        [[52]]])"
      ]
     },
     "execution_count": 32,
     "metadata": {},
     "output_type": "execute_result"
    }
   ],
   "source": [
    "torch.tensor(S).unsqueeze(1).unsqueeze(1)"
   ]
  },
  {
   "cell_type": "code",
   "execution_count": 14,
   "id": "4cd66074",
   "metadata": {},
   "outputs": [],
   "source": [
    "label_path = \"/Users/skattish/Documents/img_process_learn/yolov3/PASCAL_VOC/labels/000001.txt\"\n",
    "bboxes = np.roll(np.loadtxt(fname=label_path, delimiter=\" \", ndmin=2), 4, axis=1).tolist()"
   ]
  },
  {
   "cell_type": "code",
   "execution_count": 15,
   "id": "4e1a3f25",
   "metadata": {},
   "outputs": [
    {
     "data": {
      "text/plain": [
       "[[0.34135977337110485, 0.609, 0.4164305949008499, 0.262, 11.0],\n",
       " [0.5070821529745043, 0.508, 0.9745042492917847, 0.972, 14.0]]"
      ]
     },
     "execution_count": 15,
     "metadata": {},
     "output_type": "execute_result"
    }
   ],
   "source": [
    "bboxes"
   ]
  },
  {
   "cell_type": "code",
   "execution_count": 7,
   "id": "69a6ee3a",
   "metadata": {},
   "outputs": [
    {
     "data": {
      "text/plain": [
       "1"
      ]
     },
     "execution_count": 7,
     "metadata": {},
     "output_type": "execute_result"
    }
   ],
   "source": [
    "4%3"
   ]
  },
  {
   "cell_type": "code",
   "execution_count": null,
   "id": "a5894087",
   "metadata": {},
   "outputs": [],
   "source": []
  }
 ],
 "metadata": {
  "kernelspec": {
   "display_name": "Python 3 (ipykernel)",
   "language": "python",
   "name": "python3"
  },
  "language_info": {
   "codemirror_mode": {
    "name": "ipython",
    "version": 3
   },
   "file_extension": ".py",
   "mimetype": "text/x-python",
   "name": "python",
   "nbconvert_exporter": "python",
   "pygments_lexer": "ipython3",
   "version": "3.9.15"
  }
 },
 "nbformat": 4,
 "nbformat_minor": 5
}
